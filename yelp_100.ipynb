{
 "cells": [
  {
   "cell_type": "code",
   "execution_count": 1,
   "id": "6ea24bcc-9825-44e7-857b-11d88d0b9291",
   "metadata": {},
   "outputs": [],
   "source": [
    "import json"
   ]
  },
  {
   "cell_type": "code",
   "execution_count": 3,
   "id": "2344ef75-9161-427d-b52a-788af09b0b83",
   "metadata": {},
   "outputs": [
    {
     "name": "stdout",
     "output_type": "stream",
     "text": [
      "Total Lines : 6990280, Lines per file : 69902\n",
      "✅ JSON file is successfully split into smaller files!\n"
     ]
    }
   ],
   "source": [
    "input_file = 'yelp_academic_dataset_review.json'  # base file\n",
    "output_prefix = 'split_file_'\n",
    "num_files = 100  # split file in n numbers\n",
    "\n",
    "with open(input_file, \"r\", encoding=\"utf8\") as f:\n",
    "    total_lines = sum(1 for _ in f)  # count total number of line in a file\n",
    "\n",
    "lines_per_file = total_lines // num_files  # lines per split file\n",
    "\n",
    "print(f'Total Lines : {total_lines}, Lines per file : {lines_per_file}')\n",
    "\n",
    "# Spliting big fil into smaller files\n",
    "with open(input_file, 'r', encoding='utf8') as f:\n",
    "    for i in range(num_files):\n",
    "        output_filename = f'{output_prefix}{i+1}.json'\n",
    "\n",
    "        with open(output_filename, 'w', encoding='utf8') as out_file:\n",
    "            for j in range(lines_per_file):\n",
    "                line = f.readline()\n",
    "                if not line:\n",
    "                    break  # stop if file ends ewarly\n",
    "                out_file.write(line)\n",
    "print('✅ JSON file is successfully split into smaller files!')                    "
   ]
  }
 ],
 "metadata": {
  "kernelspec": {
   "display_name": "Python 3 (ipykernel)",
   "language": "python",
   "name": "python3"
  },
  "language_info": {
   "codemirror_mode": {
    "name": "ipython",
    "version": 3
   },
   "file_extension": ".py",
   "mimetype": "text/x-python",
   "name": "python",
   "nbconvert_exporter": "python",
   "pygments_lexer": "ipython3",
   "version": "3.12.3"
  }
 },
 "nbformat": 4,
 "nbformat_minor": 5
}
